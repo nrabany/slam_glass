{
 "cells": [
  {
   "cell_type": "code",
   "execution_count": 47,
   "metadata": {},
   "outputs": [],
   "source": [
    "from __future__ import print_function\n",
    "import numpy as np\n",
    "import matplotlib.pyplot as plt"
   ]
  },
  {
   "cell_type": "code",
   "execution_count": 50,
   "metadata": {},
   "outputs": [],
   "source": [
    "threshVal = np.loadtxt(\"txt_files_py2/threshVal30beams.txt\") #threshVal5e5\n",
    "threshVal2 = np.loadtxt(\"txt_files_py2/threshVal30beamsDoubleBy5_2.txt\") #threshVal5e5doubleKpBy3\n",
    "\n",
    "# Put in seconds\n",
    "threshVal[:,0] = threshVal[:,0]*pow(10, -9)\n",
    "threshVal2[:,0] = threshVal2[:,0]*pow(10, -9)\n",
    "\n",
    "t0 = 0\n",
    "# Initialize at 0sec\n",
    "if threshVal[0,0]<threshVal2[0,0]:\n",
    "    t0 = threshVal[0,0]\n",
    "else:\n",
    "    t0 = threshVal2[0,0]\n",
    "    \n",
    "threshVal[:,0] = threshVal[:,0] - t0\n",
    "threshVal2[:,0] = threshVal2[:,0] - t0"
   ]
  },
  {
   "cell_type": "code",
   "execution_count": 51,
   "metadata": {},
   "outputs": [
    {
     "data": {
      "text/plain": [
       "<matplotlib.legend.Legend at 0x7f10e9050c10>"
      ]
     },
     "execution_count": 51,
     "metadata": {},
     "output_type": "execute_result"
    },
    {
     "data": {
      "image/png": "[encoded data removed]",
      "text/plain": [
       "<Figure size 432x288 with 1 Axes>"
      ]
     },
     "metadata": {
      "needs_background": "light"
     },
     "output_type": "display_data"
    }
   ],
   "source": [
    "plt.plot(threshVal[:,0], threshVal[:,1], alpha=0.6, label='1')\n",
    "plt.plot(threshVal2[:,0], threshVal2[:,1], alpha=0.6, label='2')\n",
    "plt.legend()"
   ]
  },
  {
   "cell_type": "code",
   "execution_count": 35,
   "metadata": {},
   "outputs": [
    {
     "data": {
      "text/plain": [
       "array([26.05  , 26.0452, 26.0414, 26.0386, 26.035 , 26.0332, 26.0311,\n",
       "       26.0296, 26.0277, 26.027 , 26.0259, 26.0125, 26.0125, 26.0125,\n",
       "       26.0125, 26.0125, 26.0125, 26.0125, 26.0125, 26.0125, 26.0459,\n",
       "       26.0491, 26.113 , 26.113 , 26.1144, 26.1145, 26.1145, 26.1145,\n",
       "       26.1145, 26.1145, 26.1145, 26.1145, 26.078 , 26.078 , 26.078 ,\n",
       "       26.078 , 26.078 , 26.078 , 26.078 , 26.078 , 26.078 , 26.078 ,\n",
       "       26.078 , 26.078 , 26.078 , 26.078 , 26.078 , 26.078 , 26.078 ,\n",
       "       26.0812, 26.0838, 26.0864, 26.0962, 26.1041, 26.107 , 26.1079,\n",
       "       26.1079, 26.1079, 26.1079, 26.1079, 26.1079, 26.1079, 26.1052,\n",
       "       26.1052, 26.0805, 26.0807, 26.0809, 26.0809, 26.0812, 26.0814,\n",
       "       26.0814, 26.0814, 26.0814, 26.0814, 26.0814, 26.0814, 26.0814,\n",
       "       26.0814, 26.0814, 26.0814, 26.0814, 26.0814, 26.0814, 26.0814,\n",
       "       26.0814, 26.0814, 26.0814, 26.0814, 26.0814, 26.0814, 26.0814,\n",
       "       26.0814, 26.0814, 26.0814, 26.0814, 26.0814, 26.0814, 26.0814,\n",
       "       26.0814, 26.0854, 26.0863, 26.0863, 26.0863, 26.0863, 26.0863,\n",
       "       26.0863, 26.0863, 26.0863, 26.0863, 26.0863, 26.0863, 26.0863,\n",
       "       26.0863, 26.0863, 26.0863, 26.0863, 26.0863, 26.0863, 26.0863,\n",
       "       26.0863, 26.102 , 26.1083, 26.1113, 26.1115, 26.1115, 26.1115,\n",
       "       26.1115, 26.1115, 26.1115, 26.107 , 26.1027, 26.1027, 26.1142,\n",
       "       26.2713, 26.4001, 26.4882, 26.5482, 26.5711, 26.5835, 26.5854,\n",
       "       26.5859, 26.5859, 26.3416, 26.3416, 26.1181, 26.1181, 26.0463,\n",
       "       26.0247, 26.0247, 26.0247, 26.0247, 26.0247, 26.0247, 26.0247,\n",
       "       26.0247, 26.0247, 26.0247, 26.0247, 26.0247, 26.0247, 26.0247,\n",
       "       26.0247, 26.0247, 26.0247, 26.0247, 26.0247, 26.0247, 26.0247,\n",
       "       26.0247, 26.0261, 26.0966, 26.1773, 26.2617, 26.3608, 26.4645,\n",
       "       26.5769, 26.6804, 26.7854, 26.886 , 26.9706, 26.9707, 27.0054,\n",
       "       27.0202, 27.0202, 27.0202, 27.0202, 27.0218, 27.0223, 27.0223,\n",
       "       27.0221, 27.0219, 27.0219, 27.0219, 27.0219, 27.0219, 27.0219,\n",
       "       27.0217, 27.0217, 27.0217, 27.0217, 27.006 , 26.9779, 26.9779,\n",
       "       26.9779, 26.9779, 26.9475, 26.9475, 26.9475, 26.9471, 26.7021,\n",
       "       26.4416, 26.1681, 25.8924, 25.6309, 25.4005, 25.2597, 25.164 ,\n",
       "       25.0997, 25.0797, 25.0707, 25.0679, 25.0677, 25.0677, 25.0677,\n",
       "       25.0677, 25.0677, 25.0677, 25.0677, 25.0677, 25.0677, 25.0677,\n",
       "       25.0677, 25.0677, 25.0677, 25.0677, 25.0677, 25.0677, 25.0677,\n",
       "       25.0677, 25.0678, 25.068 , 25.0683, 25.0685, 25.0687, 25.0689,\n",
       "       25.0692, 25.0694, 25.0696, 25.0698, 25.07  , 25.0702, 25.0704,\n",
       "       25.0707, 25.0709, 25.0712, 25.0714, 25.0717, 25.0719, 25.0721,\n",
       "       25.0724, 25.0727, 25.0727])"
      ]
     },
     "execution_count": 35,
     "metadata": {},
     "output_type": "execute_result"
    }
   ],
   "source": [
    "threshVal2[threshVal2[:,0]>20,1]"
   ]
  },
  {
   "cell_type": "code",
   "execution_count": null,
   "metadata": {},
   "outputs": [],
   "source": []
  }
 ],
 "metadata": {
  "kernelspec": {
   "display_name": "Python 2",
   "language": "python",
   "name": "python2"
  },
  "language_info": {
   "codemirror_mode": {
    "name": "ipython",
    "version": 2
   },
   "file_extension": ".py",
   "mimetype": "text/x-python",
   "name": "python",
   "nbconvert_exporter": "python",
   "pygments_lexer": "ipython2",
   "version": "2.7.12"
  }
 },
 "nbformat": 4,
 "nbformat_minor": 2
}
