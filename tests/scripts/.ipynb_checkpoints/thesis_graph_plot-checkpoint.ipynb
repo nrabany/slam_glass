{
 "cells": [
  {
   "cell_type": "code",
   "execution_count": 226,
   "metadata": {},
   "outputs": [],
   "source": [
    "from __future__ import print_function\n",
    "import numpy as np\n",
    "import matplotlib.pyplot as plt\n",
    "import math\n",
    "import matplotlib.mlab as mlab"
   ]
  },
  {
   "cell_type": "code",
   "execution_count": 227,
   "metadata": {},
   "outputs": [
    {
     "name": "stderr",
     "output_type": "stream",
     "text": [
      "/home/nicolas/.local/lib/python2.7/site-packages/ipykernel_launcher.py:10: MatplotlibDeprecationWarning: scipy.stats.norm.pdf\n",
      "  # Remove the CWD from sys.path while we load stuff.\n"
     ]
    },
    {
     "data": {
      "image/png": "[encoded data removed]",
      "text/plain": [
       "<Figure size 432x288 with 1 Axes>"
      ]
     },
     "metadata": {
      "needs_background": "light"
     },
     "output_type": "display_data"
    }
   ],
   "source": [
    "fig, ax = plt.subplots()\n",
    "size = 19\n",
    "plt.rcParams.update({'font.size': size})\n",
    "\n",
    "mu = 0\n",
    "variance = 0.1\n",
    "sigma = math.sqrt(variance)\n",
    "sigma2 = 1\n",
    "x = np.linspace(-3*sigma2, 3*sigma2, 1000)\n",
    "y_hit = mlab.normpdf(x, mu, sigma)\n",
    "\n",
    "# X-axis\n",
    "plt.xlim(-3, 3.2)\n",
    "ticksX = ['$z_{t}^{ k*}$', '$z_{t, behind}^{ k*}$', '$z_{max}$']\n",
    "plt.xticks([], [])\n",
    "x_ticks = np.append(ax.get_xticks(), [0, 1.5, 3])\n",
    "plt.xticks(x, ticksX)\n",
    "ax.set_xticks(x_ticks)\n",
    "\n",
    "# Y-axis\n",
    "plt.ylim(-.0, 1.5)\n",
    "#plt.gca().axes.get_yaxis().set_visible(False)\n",
    "plt.yticks([], [])\n",
    "plt.ylabel('$p$')\n",
    "\n",
    "plt.plot(x, y_hit, 'k', linewidth=0.8)\n",
    "\n",
    "plt.legend()\n",
    "plt.show()\n",
    "fig.savefig('p_hit.png')"
   ]
  },
  {
   "cell_type": "code",
   "execution_count": 228,
   "metadata": {},
   "outputs": [
    {
     "name": "stderr",
     "output_type": "stream",
     "text": [
      "/home/nicolas/.local/lib/python2.7/site-packages/ipykernel_launcher.py:8: MatplotlibDeprecationWarning: scipy.stats.norm.pdf\n",
      "  \n"
     ]
    },
    {
     "data": {
      "image/png": "[encoded data removed]",
      "text/plain": [
       "<Figure size 432x288 with 1 Axes>"
      ]
     },
     "metadata": {
      "needs_background": "light"
     },
     "output_type": "display_data"
    }
   ],
   "source": [
    "fig, ax = plt.subplots()\n",
    "plt.rcParams.update({'font.size': size})\n",
    "\n",
    "mu = 0\n",
    "variance = 0.2\n",
    "sigma = math.sqrt(variance)\n",
    "sigma2 = 1\n",
    "y_hit_glass = mlab.normpdf(x, mu, sigma)\n",
    "\n",
    "# X-axis\n",
    "plt.xlim(-3, 3.2)\n",
    "ticksX = ['$z_{t}$', '$z_{t, behind}$', '$z_{max}$']\n",
    "plt.xticks([], [])\n",
    "x_ticks = np.append(ax.get_xticks(), [0, 1.5, 3])\n",
    "plt.xticks(x, ticksX)\n",
    "ax.set_xticks(x_ticks)\n",
    "\n",
    "# Y-axis\n",
    "plt.ylim(-.0, 1.5)\n",
    "#plt.gca().axes.get_yaxis().set_visible(False)\n",
    "plt.yticks([], [])\n",
    "plt.ylabel('$p$')\n",
    "\n",
    "plt.plot(x, y_hit_glass, 'k', linewidth=0.8)\n",
    "\n",
    "plt.show()\n",
    "fig.savefig('p_hit_glass.png')"
   ]
  },
  {
   "cell_type": "code",
   "execution_count": 229,
   "metadata": {},
   "outputs": [
    {
     "name": "stderr",
     "output_type": "stream",
     "text": [
      "/home/nicolas/.local/lib/python2.7/site-packages/ipykernel_launcher.py:8: MatplotlibDeprecationWarning: scipy.stats.norm.pdf\n",
      "  \n"
     ]
    },
    {
     "data": {
      "image/png": "[encoded data removed]",
      "text/plain": [
       "<Figure size 432x288 with 1 Axes>"
      ]
     },
     "metadata": {
      "needs_background": "light"
     },
     "output_type": "display_data"
    }
   ],
   "source": [
    "fig, ax = plt.subplots()\n",
    "plt.rcParams.update({'font.size': size})\n",
    "\n",
    "mu = 1.5\n",
    "variance = 0.1\n",
    "sigma = math.sqrt(variance)\n",
    "sigma2 = 1\n",
    "y_hit_behind = mlab.normpdf(x, mu, sigma)\n",
    "\n",
    "# X-axis\n",
    "plt.xlim(-3, 3.2)\n",
    "ticksX = ['$z_{t}$', '$z_{t, behind}$', '$z_{max}$']\n",
    "plt.xticks([], [])\n",
    "x_ticks = np.append(ax.get_xticks(), [0, 1.5, 3])\n",
    "plt.xticks(x, ticksX)\n",
    "ax.set_xticks(x_ticks)\n",
    "\n",
    "# Y-axis\n",
    "plt.ylim(-.0, 1.5)\n",
    "#plt.gca().axes.get_yaxis().set_visible(False)\n",
    "plt.yticks([], [])\n",
    "plt.ylabel('$p$')\n",
    "\n",
    "plt.plot(x,y_hit_behind, 'k', linewidth=0.8)\n",
    "\n",
    "plt.show()\n",
    "fig.savefig('p_hit_behind.png')"
   ]
  },
  {
   "cell_type": "code",
   "execution_count": 230,
   "metadata": {},
   "outputs": [
    {
     "data": {
      "image/png": "[encoded data removed]",
      "text/plain": [
       "<Figure size 432x288 with 1 Axes>"
      ]
     },
     "metadata": {
      "needs_background": "light"
     },
     "output_type": "display_data"
    }
   ],
   "source": [
    "fig, ax = plt.subplots()\n",
    "plt.rcParams.update({'font.size': size})\n",
    "\n",
    "mu = 1.5\n",
    "variance = 0.1\n",
    "sigma = math.sqrt(variance)\n",
    "sigma2 = 1\n",
    "y_max = np.zeros(x.shape[0])\n",
    "y_max[-15:-1] = 0.3\n",
    "\n",
    "# X-axis\n",
    "plt.xlim(-3, 3.2)\n",
    "ticksX = ['$z_{t}$', '$z_{t, behind}$', '$z_{max}$']\n",
    "plt.xticks([], [])\n",
    "x_ticks = np.append(ax.get_xticks(), [0, 1.5, 3])\n",
    "plt.xticks(x, ticksX)\n",
    "ax.set_xticks(x_ticks)\n",
    "\n",
    "# Y-axis\n",
    "plt.ylim(-.0, 1.5)\n",
    "#plt.gca().axes.get_yaxis().set_visible(False)\n",
    "plt.yticks([], [])\n",
    "plt.ylabel('$p$')\n",
    "\n",
    "plt.plot(x,y_max, 'k', linewidth=0.8)\n",
    "\n",
    "plt.show()\n",
    "fig.savefig('p_max.png')"
   ]
  },
  {
   "cell_type": "code",
   "execution_count": 231,
   "metadata": {},
   "outputs": [
    {
     "data": {
      "image/png": "[encoded data removed]",
      "text/plain": [
       "<Figure size 432x288 with 1 Axes>"
      ]
     },
     "metadata": {
      "needs_background": "light"
     },
     "output_type": "display_data"
    }
   ],
   "source": [
    "fig, ax = plt.subplots()\n",
    "plt.rcParams.update({'font.size': size})\n",
    "\n",
    "mu = 1.5\n",
    "variance = 0.1\n",
    "sigma = math.sqrt(variance)\n",
    "sigma2 = 1\n",
    "y_rand = np.ones(x.shape[0])*0.03\n",
    "y_rand[-1] = 0\n",
    "\n",
    "# X-axis\n",
    "plt.xlim(-3, 3.2)\n",
    "ticksX = ['$z_{t}$', '$z_{t, behind}$', '$z_{max}$']\n",
    "plt.xticks([], [])\n",
    "x_ticks = np.append(ax.get_xticks(), [0, 1.5, 3])\n",
    "plt.xticks(x, ticksX)\n",
    "ax.set_xticks(x_ticks)\n",
    "\n",
    "# Y-axis\n",
    "plt.ylim(-.0, 1.5)\n",
    "#plt.gca().axes.get_yaxis().set_visible(False)\n",
    "plt.yticks([], [])\n",
    "plt.ylabel('$p$')\n",
    "\n",
    "plt.plot(x,y_rand, 'k', linewidth=0.8)\n",
    "\n",
    "plt.show()\n",
    "fig.savefig('p_rand.png')"
   ]
  },
  {
   "cell_type": "code",
   "execution_count": 232,
   "metadata": {},
   "outputs": [
    {
     "data": {
      "image/png": "[encoded data removed]",
      "text/plain": [
       "<Figure size 432x288 with 1 Axes>"
      ]
     },
     "metadata": {
      "needs_background": "light"
     },
     "output_type": "display_data"
    }
   ],
   "source": [
    "fig, ax = plt.subplots()\n",
    "plt.rcParams.update({'font.size': size})\n",
    "\n",
    "mu = 1.5\n",
    "variance = 0.1\n",
    "sigma = math.sqrt(variance)\n",
    "sigma2 = 1\n",
    "y_unexpected = np.zeros(x.shape[0])*0.05\n",
    "y_unexpected[:int(y.shape[0]/2)] = 0.4*np.exp(-0.8*(x[:int(y_unexpected.shape[0]/2)] + 3*sigma2))\n",
    "\n",
    "# X-axis\n",
    "plt.xlim(-3, 3.2)\n",
    "ticksX = ['$z_{t}$', '$z_{t, behind}$', '$z_{max}$']\n",
    "plt.xticks([], [])\n",
    "x_ticks = np.append(ax.get_xticks(), [0, 1.5, 3])\n",
    "plt.xticks(x, ticksX)\n",
    "ax.set_xticks(x_ticks)\n",
    "\n",
    "# Y-axis\n",
    "plt.ylim(-.0, 1.5)\n",
    "#plt.gca().axes.get_yaxis().set_visible(False)\n",
    "plt.yticks([], [])\n",
    "plt.ylabel('$p$')\n",
    "\n",
    "plt.plot(x,y_unexpected, 'k', linewidth=0.8)\n",
    "\n",
    "plt.show()\n",
    "fig.savefig('p_unexpected.png')"
   ]
  },
  {
   "cell_type": "code",
   "execution_count": 233,
   "metadata": {},
   "outputs": [
    {
     "data": {
      "image/png": "[encoded data removed]",
      "text/plain": [
       "<Figure size 432x288 with 1 Axes>"
      ]
     },
     "metadata": {
      "needs_background": "light"
     },
     "output_type": "display_data"
    }
   ],
   "source": [
    "fig, ax = plt.subplots()\n",
    "plt.rcParams.update({'font.size': size})\n",
    "\n",
    "a0 = 0.4\n",
    "a1 = 0.2\n",
    "a2 = 0.2\n",
    "a3 = 1 - a0 - a1 - a2\n",
    "a0 = 1\n",
    "a1 = 1\n",
    "a2 = 1\n",
    "a3 = 1\n",
    "\n",
    "p_glass = 0.8\n",
    "p_detect = 0.8\n",
    "\n",
    "y_total = a0*((1-p_glass)*y_hit + p_glass*(p_detect*y_hit_glass + (1-p_detect)*y_hit_behind)) + a1*y_unexpected + a2*y_rand + a3*y_max\n",
    "\n",
    "# X-axis\n",
    "plt.xlim(-3, 3.2)\n",
    "ticksX = ['$z_{t}$', '$z_{t, behind}$', '$z_{max}$']\n",
    "plt.xticks([], [])\n",
    "x_ticks = np.append(ax.get_xticks(), [0, 1.5, 3])\n",
    "plt.xticks(x, ticksX)\n",
    "ax.set_xticks(x_ticks)\n",
    "\n",
    "# Y-axis\n",
    "plt.ylim(-.0, 1.5)\n",
    "#plt.gca().axes.get_yaxis().set_visible(False)\n",
    "plt.yticks([], [])\n",
    "plt.ylabel('$p$')\n",
    "\n",
    "plt.plot(x,y_total, 'k', linewidth=0.8)\n",
    "\n",
    "plt.show()\n",
    "fig.savefig('p_total1.png')"
   ]
  },
  {
   "cell_type": "code",
   "execution_count": 234,
   "metadata": {},
   "outputs": [
    {
     "data": {
      "image/png": "[encoded data removed]",
      "text/plain": [
       "<Figure size 432x288 with 1 Axes>"
      ]
     },
     "metadata": {
      "needs_background": "light"
     },
     "output_type": "display_data"
    }
   ],
   "source": [
    "fig, ax = plt.subplots()\n",
    "plt.rcParams.update({'font.size': size})\n",
    "\n",
    "a0 = 0.4\n",
    "a1 = 0.2\n",
    "a2 = 0.2\n",
    "a3 = 1 - a0 - a1 - a2\n",
    "a0 = 1\n",
    "a1 = 1\n",
    "a2 = 1\n",
    "a3 = 1\n",
    "\n",
    "p_glass = 0.8\n",
    "p_detect = 0.0\n",
    "\n",
    "y_total = a0*((1-p_glass)*y_hit + p_glass*(p_detect*y_hit_glass + (1-p_detect)*y_hit_behind)) + a1*y_unexpected + a2*y_rand + a3*y_max\n",
    "\n",
    "# X-axis\n",
    "plt.xlim(-3, 3.2)\n",
    "ticksX = ['$z_{t}$', '$z_{t, behind}$', '$z_{max}$']\n",
    "plt.xticks([], [])\n",
    "x_ticks = np.append(ax.get_xticks(), [0, 1.5, 3])\n",
    "plt.xticks(x, ticksX)\n",
    "ax.set_xticks(x_ticks)\n",
    "\n",
    "# Y-axis\n",
    "plt.ylim(-.0, 1.5)\n",
    "#plt.gca().axes.get_yaxis().set_visible(False)\n",
    "plt.yticks([], [])\n",
    "plt.ylabel('$p$')\n",
    "\n",
    "plt.plot(x,y_total, 'k', linewidth=0.8)\n",
    "\n",
    "plt.show()\n",
    "fig.savefig('p_total2.png')"
   ]
  },
  {
   "cell_type": "code",
   "execution_count": null,
   "metadata": {},
   "outputs": [],
   "source": []
  }
 ],
 "metadata": {
  "kernelspec": {
   "display_name": "Python 2",
   "language": "python",
   "name": "python2"
  },
  "language_info": {
   "codemirror_mode": {
    "name": "ipython",
    "version": 2
   },
   "file_extension": ".py",
   "mimetype": "text/x-python",
   "name": "python",
   "nbconvert_exporter": "python",
   "pygments_lexer": "ipython2",
   "version": "2.7.12"
  }
 },
 "nbformat": 4,
 "nbformat_minor": 2
}
